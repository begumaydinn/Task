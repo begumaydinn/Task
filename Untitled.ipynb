{
 "cells": [
  {
   "cell_type": "code",
   "execution_count": 63,
   "id": "a724cdd9",
   "metadata": {},
   "outputs": [],
   "source": [
    "import pandas as pd\n",
    "import numpy as np\n",
    "from datetime import datetime as dt\n",
    "\n",
    "opath = \"/Users/macbookair/Desktop/task/\""
   ]
  },
  {
   "cell_type": "code",
   "execution_count": 64,
   "id": "dbb32f55",
   "metadata": {},
   "outputs": [],
   "source": [
    "# Read the file\n",
    "df = pd.read_csv(opath+\"rates_sample.csv\")"
   ]
  },
  {
   "cell_type": "code",
   "execution_count": 65,
   "id": "83f8b888",
   "metadata": {},
   "outputs": [],
   "source": [
    "# Function to convert milliseconds to datetime\n",
    "\n",
    "def milliseconds_to_datetime(milliseconds):\n",
    "    \n",
    "    # Convert milliseconds to seconds\n",
    "    seconds = milliseconds / 1000.0\n",
    "    \n",
    "    # Convert seconds to datetime\n",
    "    return dt.fromtimestamp(seconds)\n",
    "\n",
    "# Apply the function to the \"event_time\" column\n",
    "df[\"event_time\"] = df[\"event_time\"].apply(milliseconds_to_datetime)\n",
    "df.set_index(\"event_time\", inplace=True, drop=True)"
   ]
  },
  {
   "cell_type": "code",
   "execution_count": 66,
   "id": "25d12d90",
   "metadata": {},
   "outputs": [],
   "source": [
    "yesterday_rates = { \"EURUSD\": 1.0500,\n",
    "                    \"NZDUSD\": 0.6660,\n",
    "                    \"AUDUSD\": 0.6950,\n",
    "                    \"EURGBP\": 0.8260,\n",
    "                    \"GBPUSD\": 1.3000 }\n",
    "\n",
    "# Fetch yesterday's rates for each currency couple\n",
    "df[\"y_rate\"] = df[\"ccy_couple\"].map(yesterday_rates)"
   ]
  },
  {
   "cell_type": "code",
   "execution_count": 71,
   "id": "77b40655",
   "metadata": {},
   "outputs": [],
   "source": [
    "# Calculate the percentage rate of each currency couple\n",
    "df[\"change\"] = ((df[\"rate\"] - df[\"y_rate\"]) / df[\"y_rate\"]) * 100\n",
    "df[\"change\"] = df[\"change\"].where(df[\"rate\"] != 0, other=None)  # Set change to None where rate is 0"
   ]
  },
  {
   "cell_type": "code",
   "execution_count": 70,
   "id": "297e3ee3",
   "metadata": {},
   "outputs": [
    {
     "name": "stdout",
     "output_type": "stream",
     "text": [
      "EUR/USD, 1.08065, 2.919%\n",
      "NZD/USD, 0.61616, -7.483%\n",
      "AUD/USD, 0.65491, -5.768%\n",
      "EUR/GBP, 0.85619, 3.655%\n",
      "GBP/USD, 1.26230, -2.900%\n"
     ]
    }
   ],
   "source": [
    "# Iterate over each currency pair to display the latest change\n",
    "\n",
    "for couple in df[\"ccy_couple\"].unique():\n",
    "    \n",
    "    # Filter by currency pair and sort by event time in descending order\n",
    "    couple_df = df[df[\"ccy_couple\"] == couple].sort_values(by=\"event_time\", ascending=False)\n",
    "    \n",
    "    # Drop rows with None values and consider only rows with valid changes\n",
    "    couple_df = couple_df.dropna(subset=[\"change\"])\n",
    "    \n",
    "    # Check if there are valid changes available\n",
    "    if not couple_df.empty:\n",
    "        # Get the latest change and rate\n",
    "        latest_change = couple_df.iloc[0][\"change\"]\n",
    "        latest_rate = couple_df.iloc[0][\"rate\"]\n",
    "        \n",
    "        # Format the output string\n",
    "        output_str = f\"{couple[:3]}/{couple[3:]}, \" + f\"{latest_rate:.5f}, \" + f\"{latest_change:.3f}%\"\n",
    "        \n",
    "        # Print the output\n",
    "        print(output_str)\n"
   ]
  },
  {
   "cell_type": "code",
   "execution_count": null,
   "id": "ca5ad7de",
   "metadata": {},
   "outputs": [],
   "source": []
  }
 ],
 "metadata": {
  "kernelspec": {
   "display_name": "Python 3",
   "language": "python",
   "name": "python3"
  },
  "language_info": {
   "codemirror_mode": {
    "name": "ipython",
    "version": 3
   },
   "file_extension": ".py",
   "mimetype": "text/x-python",
   "name": "python",
   "nbconvert_exporter": "python",
   "pygments_lexer": "ipython3",
   "version": "3.8.8"
  }
 },
 "nbformat": 4,
 "nbformat_minor": 5
}
